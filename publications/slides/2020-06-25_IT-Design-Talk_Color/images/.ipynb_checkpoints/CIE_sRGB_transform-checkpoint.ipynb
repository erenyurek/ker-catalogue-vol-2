{
 "cells": [
  {
   "cell_type": "markdown",
   "metadata": {},
   "source": [
    "# Transforming between CIE Chromaticity and standard RGB"
   ]
  },
  {
   "cell_type": "code",
   "execution_count": 1,
   "metadata": {},
   "outputs": [],
   "source": [
    "import numpy as np"
   ]
  },
  {
   "cell_type": "markdown",
   "metadata": {},
   "source": [
    "![title](./sRGB_in_CIE.png)"
   ]
  },
  {
   "cell_type": "markdown",
   "metadata": {},
   "source": [
    "## xyY -> sRGB"
   ]
  },
  {
   "cell_type": "code",
   "execution_count": 2,
   "metadata": {},
   "outputs": [],
   "source": [
    "def XYZ_to_RGBlinear(XYZ):\n",
    "    M = np.array([[+3.24096994, -1.53738318, -0.49861076],\n",
    "                  [-0.96924364, +1.87596750, +0.04155506],\n",
    "                  [+0.05563008, -0.20397696, +1.05697151]])\n",
    "    return M.dot(XYZ)\n",
    "    \n",
    "def gamma(u):\n",
    "    if isinstance(u, np.ndarray):\n",
    "        return np.array([gamma(ui) for ui in u])\n",
    "    else:\n",
    "        if u <= 0.0031308:\n",
    "            return 12.92 * u\n",
    "        else:\n",
    "            return (1.055*u**(1/2.4) - 0.055)\n",
    "        \n",
    "def xyY_to_XYZ(xyY):\n",
    "    x, y, Y = xyY[0], xyY[1], xyY[2]\n",
    "    X = Y/y * x\n",
    "    Z = Y/y * (1-x-y)\n",
    "    return np.array([X, Y, Z])\n",
    "\n",
    "def xyY_to_sRGB(xyY):\n",
    "    XYZ = xyY_to_XYZ(xyY)\n",
    "    RGB = XYZ_to_RGBlinear(XYZ)\n",
    "    sRGB = gamma(RGB)\n",
    "    return sRGB"
   ]
  },
  {
   "cell_type": "code",
   "execution_count": 3,
   "metadata": {},
   "outputs": [
    {
     "name": "stdout",
     "output_type": "stream",
     "text": [
      "D65 xyY:\t [0.3127 0.329  1.    ]\n",
      "D65 sRGB:\t [1. 1. 1.]\n",
      "\n",
      "greenish xyY:\t [0.1 0.6 1. ]\n",
      "greenish sRGB:\t [-16.10512759   1.27233912   0.61287396]\n"
     ]
    }
   ],
   "source": [
    "D65_xyY = np.array([0.3127, 0.3290, 1])\n",
    "print(\"D65 xyY:\\t\", D65_xyY)\n",
    "print(\"D65 sRGB:\\t\", xyY_to_sRGB(D65_xyY))\n",
    "print()\n",
    "green_xyY = np.array([0.1, 0.6, 1])\n",
    "print(\"greenish xyY:\\t\", green_xyY)\n",
    "print(\"greenish sRGB:\\t\", xyY_to_sRGB(green_xyY))"
   ]
  },
  {
   "cell_type": "markdown",
   "metadata": {},
   "source": [
    "## sRGB -> xyY"
   ]
  },
  {
   "cell_type": "code",
   "execution_count": 4,
   "metadata": {},
   "outputs": [],
   "source": [
    "def RGBlinear_to_XYZ(RGB):\n",
    "    M = np.array([[0.41239080, 0.35758434, 0.18048079],\n",
    "                  [0.21263901, 0.71516868, 0.07219232],\n",
    "                  [0.01933082, 0.11919478, 0.95053215]])\n",
    "    return M.dot(RGB)\n",
    "    \n",
    "def gamma_inv(u):\n",
    "    if isinstance(u, np.ndarray):\n",
    "        return np.array([gamma(ui) for ui in u])\n",
    "    else:\n",
    "        if u <= 0.04045:\n",
    "            return u/12.92\n",
    "        else:\n",
    "            return (u+0.055)**(2.4)/1.055\n",
    "        \n",
    "def XYZ_to_xyY(XYZ):\n",
    "    X, Y, Z = XYZ[0], XYZ[1], XYZ[2]\n",
    "    XYZ_sum = np.sum(XYZ)\n",
    "    x = X / XYZ_sum\n",
    "    y = Y / XYZ_sum\n",
    "    # z = 1 - x - y\n",
    "    return np.array([x, y, Y])\n",
    "\n",
    "def sRGB_to_xyY(sRGB):\n",
    "    RGB = gamma_inv(sRGB)\n",
    "    XYZ = RGBlinear_to_XYZ(RGB)\n",
    "    xyY = XYZ_to_xyY(XYZ)\n",
    "    return xyY"
   ]
  },
  {
   "cell_type": "code",
   "execution_count": 6,
   "metadata": {},
   "outputs": [
    {
     "name": "stdout",
     "output_type": "stream",
     "text": [
      "White Point sRGB:\t [1 1 1]\n",
      "White Point xyY:\t [0.3127     0.329      1.00000001]\n",
      "Green sRGB:\t [0 1 0]\n",
      "Green xyY:\t [0.3        0.6        0.71516868]\n"
     ]
    }
   ],
   "source": [
    "D65_sRGB = np.array([1,1,1])\n",
    "print(\"White Point sRGB:\\t\", D65_sRGB)\n",
    "print(\"White Point xyY:\\t\", sRGB_to_xyY(D65_sRGB))\n",
    "green_sRGB = np.array([0,1,0])\n",
    "print(\"Green sRGB:\\t\", green_sRGB)\n",
    "print(\"Green xyY:\\t\", sRGB_to_xyY(green_sRGB))"
   ]
  }
 ],
 "metadata": {
  "kernelspec": {
   "display_name": "Python 3",
   "language": "python",
   "name": "python3"
  },
  "language_info": {
   "codemirror_mode": {
    "name": "ipython",
    "version": 3
   },
   "file_extension": ".py",
   "mimetype": "text/x-python",
   "name": "python",
   "nbconvert_exporter": "python",
   "pygments_lexer": "ipython3",
   "version": "3.8.3"
  }
 },
 "nbformat": 4,
 "nbformat_minor": 4
}
